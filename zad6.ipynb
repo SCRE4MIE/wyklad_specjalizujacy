{
 "cells": [
  {
   "cell_type": "markdown",
   "source": [
    "# Wykład Specjalizujący DSiP\n",
    "# Zadanie 6\n",
    "## Mateusz Baran\n",
    "### 155620"
   ],
   "metadata": {
    "collapsed": false
   },
   "id": "e28814f0515c15f4"
  },
  {
   "cell_type": "code",
   "execution_count": 5,
   "id": "initial_id",
   "metadata": {
    "collapsed": true,
    "ExecuteTime": {
     "end_time": "2024-01-24T16:42:33.403033Z",
     "start_time": "2024-01-24T16:37:56.125078Z"
    }
   },
   "outputs": [
    {
     "name": "stdout",
     "output_type": "stream",
     "text": [
      "Epoch 1/20\n",
      "938/938 [==============================] - 11s 12ms/step - loss: 0.1764 - accuracy: 0.9477 - val_loss: 0.0498 - val_accuracy: 0.9831\n",
      "Epoch 2/20\n",
      "938/938 [==============================] - 11s 12ms/step - loss: 0.0481 - accuracy: 0.9847 - val_loss: 0.0377 - val_accuracy: 0.9882\n",
      "Epoch 3/20\n",
      "938/938 [==============================] - 12s 12ms/step - loss: 0.0334 - accuracy: 0.9895 - val_loss: 0.0350 - val_accuracy: 0.9882\n",
      "Epoch 4/20\n",
      "938/938 [==============================] - 12s 13ms/step - loss: 0.0268 - accuracy: 0.9915 - val_loss: 0.0369 - val_accuracy: 0.9881\n",
      "Epoch 5/20\n",
      "938/938 [==============================] - 12s 12ms/step - loss: 0.0202 - accuracy: 0.9934 - val_loss: 0.0290 - val_accuracy: 0.9908\n",
      "Epoch 6/20\n",
      "938/938 [==============================] - 12s 13ms/step - loss: 0.0172 - accuracy: 0.9942 - val_loss: 0.0297 - val_accuracy: 0.9909\n",
      "Epoch 7/20\n",
      "938/938 [==============================] - 12s 13ms/step - loss: 0.0148 - accuracy: 0.9954 - val_loss: 0.0322 - val_accuracy: 0.9910\n",
      "Epoch 8/20\n",
      "938/938 [==============================] - 12s 13ms/step - loss: 0.0127 - accuracy: 0.9957 - val_loss: 0.0390 - val_accuracy: 0.9890\n",
      "Epoch 9/20\n",
      "938/938 [==============================] - 12s 13ms/step - loss: 0.0108 - accuracy: 0.9966 - val_loss: 0.0293 - val_accuracy: 0.9922\n",
      "Epoch 10/20\n",
      "938/938 [==============================] - 13s 13ms/step - loss: 0.0087 - accuracy: 0.9973 - val_loss: 0.0402 - val_accuracy: 0.9897\n",
      "Epoch 11/20\n",
      "938/938 [==============================] - 39s 41ms/step - loss: 0.0091 - accuracy: 0.9967 - val_loss: 0.0326 - val_accuracy: 0.9905\n",
      "Epoch 12/20\n",
      "938/938 [==============================] - 14s 15ms/step - loss: 0.0071 - accuracy: 0.9978 - val_loss: 0.0379 - val_accuracy: 0.9911\n",
      "Epoch 13/20\n",
      "938/938 [==============================] - 13s 14ms/step - loss: 0.0074 - accuracy: 0.9974 - val_loss: 0.0342 - val_accuracy: 0.9920\n",
      "Epoch 14/20\n",
      "938/938 [==============================] - 13s 14ms/step - loss: 0.0049 - accuracy: 0.9985 - val_loss: 0.0453 - val_accuracy: 0.9908\n",
      "Epoch 15/20\n",
      "938/938 [==============================] - 13s 14ms/step - loss: 0.0063 - accuracy: 0.9979 - val_loss: 0.0354 - val_accuracy: 0.9921\n",
      "Epoch 16/20\n",
      "938/938 [==============================] - 13s 14ms/step - loss: 0.0051 - accuracy: 0.9984 - val_loss: 0.0356 - val_accuracy: 0.9932\n",
      "Epoch 17/20\n",
      "938/938 [==============================] - 14s 15ms/step - loss: 0.0050 - accuracy: 0.9982 - val_loss: 0.0374 - val_accuracy: 0.9923\n",
      "Epoch 18/20\n",
      "938/938 [==============================] - 13s 14ms/step - loss: 0.0044 - accuracy: 0.9986 - val_loss: 0.0404 - val_accuracy: 0.9917\n",
      "Epoch 19/20\n",
      "938/938 [==============================] - 13s 14ms/step - loss: 0.0049 - accuracy: 0.9984 - val_loss: 0.0433 - val_accuracy: 0.9903\n",
      "Epoch 20/20\n",
      "938/938 [==============================] - 13s 13ms/step - loss: 0.0041 - accuracy: 0.9987 - val_loss: 0.0445 - val_accuracy: 0.9917\n",
      "313/313 [==============================] - 1s 3ms/step - loss: 0.0445 - accuracy: 0.9917\n",
      "Test accuracy: 0.9916999936103821\n"
     ]
    }
   ],
   "source": [
    "from keras import layers, models\n",
    "from keras.datasets import mnist\n",
    "from keras.utils import to_categorical\n",
    "\n",
    "# Load and preprocess the MNIST dataset\n",
    "(train_images, train_labels), (test_images, test_labels) = mnist.load_data()\n",
    "train_images = train_images.reshape((60000, 28, 28, 1)).astype('float32') / 255\n",
    "test_images = test_images.reshape((10000, 28, 28, 1)).astype('float32') / 255\n",
    "\n",
    "train_labels = to_categorical(train_labels)\n",
    "test_labels = to_categorical(test_labels)\n",
    "\n",
    "# Build the neural network model\n",
    "model = models.Sequential()\n",
    "model.add(layers.Conv2D(32, (3, 3), activation='relu', input_shape=(28, 28, 1)))\n",
    "model.add(layers.MaxPooling2D((2, 2)))\n",
    "model.add(layers.Conv2D(64, (3, 3), activation='relu'))\n",
    "model.add(layers.MaxPooling2D((2, 2)))\n",
    "model.add(layers.Conv2D(64, (3, 3), activation='relu'))\n",
    "model.add(layers.Flatten())\n",
    "model.add(layers.Dense(64, activation='relu'))\n",
    "model.add(layers.Dense(10, activation='softmax'))\n",
    "\n",
    "# Compile the model\n",
    "model.compile(optimizer='adam',\n",
    "              loss='categorical_crossentropy',\n",
    "              metrics=['accuracy'])\n",
    "\n",
    "# Train the model\n",
    "model.fit(train_images, train_labels, epochs=20, batch_size=64, validation_data=(test_images, test_labels))\n",
    "\n",
    "# Evaluate the model\n",
    "test_loss, test_acc = model.evaluate(test_images, test_labels)\n",
    "print(f'Test accuracy: {test_acc}')\n"
   ]
  },
  {
   "cell_type": "code",
   "execution_count": 6,
   "outputs": [
    {
     "name": "stdout",
     "output_type": "stream",
     "text": [
      "1/1 [==============================] - 0s 36ms/step\n",
      "[[8.0558076e-04 1.2906936e-02 1.5556982e-06 1.4702405e-02 8.1741664e-04\n",
      "  6.9188255e-01 6.0065553e-02 3.8526657e-03 3.7976899e-03 2.1116759e-01]]\n",
      "The predicted digit is: 5\n"
     ]
    }
   ],
   "source": [
    "import numpy as np\n",
    "from PIL import Image\n",
    "\n",
    "image_path = 'osiem.png'\n",
    "new_image = Image.open(image_path).convert('L')  # Convert to grayscale\n",
    "new_image = new_image.resize((28, 28))  # Resize to match the MNIST input size\n",
    "new_image_array = np.array(new_image).reshape((1, 28, 28, 1)).astype('float32') / 255\n",
    "\n",
    "predictions = model.predict(new_image_array)\n",
    "print(predictions)\n",
    "\n",
    "predicted_digit = np.argmax(predictions)\n",
    "\n",
    "print(f'The predicted digit is: {predicted_digit}')\n"
   ],
   "metadata": {
    "collapsed": false,
    "ExecuteTime": {
     "end_time": "2024-01-24T16:42:37.957675Z",
     "start_time": "2024-01-24T16:42:37.885378Z"
    }
   },
   "id": "9f0d91802631881c"
  },
  {
   "cell_type": "code",
   "execution_count": 8,
   "outputs": [
    {
     "name": "stdout",
     "output_type": "stream",
     "text": [
      "1/1 [==============================] - 0s 13ms/step\n",
      "[[1.2247051e-02 2.3342404e-01 7.7849463e-02 3.0640485e-02 7.0240168e-04\n",
      "  1.4174913e-02 2.8566315e-05 6.1461693e-01 1.5996497e-02 3.1981041e-04]]\n",
      "The predicted digit is: 7\n"
     ]
    }
   ],
   "source": [
    "image_path = 'siedem.png'\n",
    "new_image = Image.open(image_path).convert('L')  # Convert to grayscale\n",
    "new_image = new_image.resize((28, 28))  # Resize to match the MNIST input size\n",
    "new_image_array = np.array(new_image).reshape((1, 28, 28, 1)).astype('float32') / 255\n",
    "\n",
    "predictions = model.predict(new_image_array)\n",
    "print(predictions)\n",
    "\n",
    "predicted_digit = np.argmax(predictions)\n",
    "\n",
    "print(f'The predicted digit is: {predicted_digit}')"
   ],
   "metadata": {
    "collapsed": false,
    "ExecuteTime": {
     "end_time": "2024-01-24T16:44:05.397586Z",
     "start_time": "2024-01-24T16:44:05.350901Z"
    }
   },
   "id": "e708d6a065857b6b"
  },
  {
   "cell_type": "markdown",
   "source": [
    "### Jak widać wyżej, nie zawsze udaje się algorytmowi rozpoznać zapisane ręcznie cyfry. Prawdopodobnie gdyby ustawić większy epoch, np na 100, to wyniki byłyby dużo lepsze, ponieważ dzięki wykorzystaniu datasetu z keras, ma wystarczającą ilość obrazów treningowych."
   ],
   "metadata": {
    "collapsed": false
   },
   "id": "361372d52b10a665"
  },
  {
   "cell_type": "code",
   "execution_count": null,
   "outputs": [],
   "source": [],
   "metadata": {
    "collapsed": false
   },
   "id": "bf1a10700ab230c9"
  }
 ],
 "metadata": {
  "kernelspec": {
   "display_name": "Python 3",
   "language": "python",
   "name": "python3"
  },
  "language_info": {
   "codemirror_mode": {
    "name": "ipython",
    "version": 2
   },
   "file_extension": ".py",
   "mimetype": "text/x-python",
   "name": "python",
   "nbconvert_exporter": "python",
   "pygments_lexer": "ipython2",
   "version": "2.7.6"
  }
 },
 "nbformat": 4,
 "nbformat_minor": 5
}
