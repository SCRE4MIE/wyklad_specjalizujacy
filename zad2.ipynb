{
 "cells": [
  {
   "cell_type": "markdown",
   "source": [
    "# Wykład Specjalizujący DSiP\n",
    "# Zadanie 2 Regresja\n",
    "## Mateusz Baran\n",
    "### 155620"
   ],
   "metadata": {
    "collapsed": false
   },
   "id": "c7c779269a209e0f"
  },
  {
   "cell_type": "code",
   "execution_count": 344,
   "outputs": [],
   "source": [
    "import matplotlib.pyplot as plt\n",
    "import pandas as pd\n",
    "from scipy import stats"
   ],
   "metadata": {
    "collapsed": false,
    "ExecuteTime": {
     "end_time": "2023-11-10T10:00:54.870710Z",
     "start_time": "2023-11-10T10:00:54.830651Z"
    }
   },
   "id": "41f4c92133d33fb5"
  },
  {
   "cell_type": "code",
   "execution_count": 345,
   "outputs": [],
   "source": [
    "data = pd.read_csv('data_weather.csv', skiprows=[0,1,2,3])  # usuwa pierwsze 4 wiersze z pliku csv\n",
    "data.columns = ['Data', 'Temperatura', 'Anomalia']  # zmiana nazw kolumn na nazwy polskie"
   ],
   "metadata": {
    "collapsed": false,
    "ExecuteTime": {
     "end_time": "2023-11-10T10:00:54.871393Z",
     "start_time": "2023-11-10T10:00:54.836395Z"
    }
   },
   "id": "532ab9c588cb8216"
  },
  {
   "cell_type": "code",
   "execution_count": 346,
   "outputs": [
    {
     "data": {
      "text/plain": "     Data  Temperatura  Anomalia\n0  199901         34.2       0.5\n1  200001         31.6      -2.2\n2  200101         33.9       0.2\n3  200201         40.2       6.5\n4  200301         27.8      -5.9",
      "text/html": "<div>\n<style scoped>\n    .dataframe tbody tr th:only-of-type {\n        vertical-align: middle;\n    }\n\n    .dataframe tbody tr th {\n        vertical-align: top;\n    }\n\n    .dataframe thead th {\n        text-align: right;\n    }\n</style>\n<table border=\"1\" class=\"dataframe\">\n  <thead>\n    <tr style=\"text-align: right;\">\n      <th></th>\n      <th>Data</th>\n      <th>Temperatura</th>\n      <th>Anomalia</th>\n    </tr>\n  </thead>\n  <tbody>\n    <tr>\n      <th>0</th>\n      <td>199901</td>\n      <td>34.2</td>\n      <td>0.5</td>\n    </tr>\n    <tr>\n      <th>1</th>\n      <td>200001</td>\n      <td>31.6</td>\n      <td>-2.2</td>\n    </tr>\n    <tr>\n      <th>2</th>\n      <td>200101</td>\n      <td>33.9</td>\n      <td>0.2</td>\n    </tr>\n    <tr>\n      <th>3</th>\n      <td>200201</td>\n      <td>40.2</td>\n      <td>6.5</td>\n    </tr>\n    <tr>\n      <th>4</th>\n      <td>200301</td>\n      <td>27.8</td>\n      <td>-5.9</td>\n    </tr>\n  </tbody>\n</table>\n</div>"
     },
     "execution_count": 346,
     "metadata": {},
     "output_type": "execute_result"
    }
   ],
   "source": [
    "data.head()"
   ],
   "metadata": {
    "collapsed": false,
    "ExecuteTime": {
     "end_time": "2023-11-10T10:00:54.896239Z",
     "start_time": "2023-11-10T10:00:54.847009Z"
    }
   },
   "id": "72e518e1fc7943a3"
  },
  {
   "cell_type": "code",
   "execution_count": 347,
   "outputs": [],
   "source": [
    "data['Temperatura'] = data['Temperatura'].apply(lambda temp: (temp - 32) * 5/9)   # zmiana stopni F and stopnie C\n",
    "data['Anomalia'] = data['Anomalia'].apply(lambda temp: (temp - 32) * 5/9)   # zmiana stopni F and stopnie C"
   ],
   "metadata": {
    "collapsed": false,
    "ExecuteTime": {
     "end_time": "2023-11-10T10:00:54.896649Z",
     "start_time": "2023-11-10T10:00:54.852054Z"
    }
   },
   "id": "5dbf3e9a4f9d1ae5"
  },
  {
   "cell_type": "code",
   "execution_count": 348,
   "outputs": [
    {
     "data": {
      "text/plain": "      Data  Temperatura   Anomalia\n0   199901     1.222222 -17.500000\n1   200001    -0.222222 -19.000000\n2   200101     1.055556 -17.666667\n3   200201     4.555556 -14.166667\n4   200301    -2.333333 -21.055556\n5   200401    -3.888889 -22.611111\n6   200501    -0.222222 -18.944444\n7   200601     5.055556 -13.666667\n8   200701     3.166667 -15.555556\n9   200801     2.666667 -16.055556\n10  200901    -2.111111 -20.833333\n11  201001     0.555556 -18.166667\n12  201101    -1.000000 -19.722222\n13  201201     3.222222 -15.500000\n14  201301     2.000000 -16.722222\n15  201401    -1.833333 -20.555556\n16  201501    -1.111111 -19.833333\n17  201601     1.388889 -17.333333\n18  201701     3.388889 -15.333333\n19  201801    -0.111111 -18.833333\n20  201901     0.333333 -18.388889\n21  202001     4.000000 -14.722222\n22  202101     1.555556 -17.166667\n23  202201    -0.888889 -19.611111\n24  202301     6.388889 -12.333333",
      "text/html": "<div>\n<style scoped>\n    .dataframe tbody tr th:only-of-type {\n        vertical-align: middle;\n    }\n\n    .dataframe tbody tr th {\n        vertical-align: top;\n    }\n\n    .dataframe thead th {\n        text-align: right;\n    }\n</style>\n<table border=\"1\" class=\"dataframe\">\n  <thead>\n    <tr style=\"text-align: right;\">\n      <th></th>\n      <th>Data</th>\n      <th>Temperatura</th>\n      <th>Anomalia</th>\n    </tr>\n  </thead>\n  <tbody>\n    <tr>\n      <th>0</th>\n      <td>199901</td>\n      <td>1.222222</td>\n      <td>-17.500000</td>\n    </tr>\n    <tr>\n      <th>1</th>\n      <td>200001</td>\n      <td>-0.222222</td>\n      <td>-19.000000</td>\n    </tr>\n    <tr>\n      <th>2</th>\n      <td>200101</td>\n      <td>1.055556</td>\n      <td>-17.666667</td>\n    </tr>\n    <tr>\n      <th>3</th>\n      <td>200201</td>\n      <td>4.555556</td>\n      <td>-14.166667</td>\n    </tr>\n    <tr>\n      <th>4</th>\n      <td>200301</td>\n      <td>-2.333333</td>\n      <td>-21.055556</td>\n    </tr>\n    <tr>\n      <th>5</th>\n      <td>200401</td>\n      <td>-3.888889</td>\n      <td>-22.611111</td>\n    </tr>\n    <tr>\n      <th>6</th>\n      <td>200501</td>\n      <td>-0.222222</td>\n      <td>-18.944444</td>\n    </tr>\n    <tr>\n      <th>7</th>\n      <td>200601</td>\n      <td>5.055556</td>\n      <td>-13.666667</td>\n    </tr>\n    <tr>\n      <th>8</th>\n      <td>200701</td>\n      <td>3.166667</td>\n      <td>-15.555556</td>\n    </tr>\n    <tr>\n      <th>9</th>\n      <td>200801</td>\n      <td>2.666667</td>\n      <td>-16.055556</td>\n    </tr>\n    <tr>\n      <th>10</th>\n      <td>200901</td>\n      <td>-2.111111</td>\n      <td>-20.833333</td>\n    </tr>\n    <tr>\n      <th>11</th>\n      <td>201001</td>\n      <td>0.555556</td>\n      <td>-18.166667</td>\n    </tr>\n    <tr>\n      <th>12</th>\n      <td>201101</td>\n      <td>-1.000000</td>\n      <td>-19.722222</td>\n    </tr>\n    <tr>\n      <th>13</th>\n      <td>201201</td>\n      <td>3.222222</td>\n      <td>-15.500000</td>\n    </tr>\n    <tr>\n      <th>14</th>\n      <td>201301</td>\n      <td>2.000000</td>\n      <td>-16.722222</td>\n    </tr>\n    <tr>\n      <th>15</th>\n      <td>201401</td>\n      <td>-1.833333</td>\n      <td>-20.555556</td>\n    </tr>\n    <tr>\n      <th>16</th>\n      <td>201501</td>\n      <td>-1.111111</td>\n      <td>-19.833333</td>\n    </tr>\n    <tr>\n      <th>17</th>\n      <td>201601</td>\n      <td>1.388889</td>\n      <td>-17.333333</td>\n    </tr>\n    <tr>\n      <th>18</th>\n      <td>201701</td>\n      <td>3.388889</td>\n      <td>-15.333333</td>\n    </tr>\n    <tr>\n      <th>19</th>\n      <td>201801</td>\n      <td>-0.111111</td>\n      <td>-18.833333</td>\n    </tr>\n    <tr>\n      <th>20</th>\n      <td>201901</td>\n      <td>0.333333</td>\n      <td>-18.388889</td>\n    </tr>\n    <tr>\n      <th>21</th>\n      <td>202001</td>\n      <td>4.000000</td>\n      <td>-14.722222</td>\n    </tr>\n    <tr>\n      <th>22</th>\n      <td>202101</td>\n      <td>1.555556</td>\n      <td>-17.166667</td>\n    </tr>\n    <tr>\n      <th>23</th>\n      <td>202201</td>\n      <td>-0.888889</td>\n      <td>-19.611111</td>\n    </tr>\n    <tr>\n      <th>24</th>\n      <td>202301</td>\n      <td>6.388889</td>\n      <td>-12.333333</td>\n    </tr>\n  </tbody>\n</table>\n</div>"
     },
     "execution_count": 348,
     "metadata": {},
     "output_type": "execute_result"
    }
   ],
   "source": [
    "data"
   ],
   "metadata": {
    "collapsed": false,
    "ExecuteTime": {
     "end_time": "2023-11-10T10:00:54.897152Z",
     "start_time": "2023-11-10T10:00:54.860159Z"
    }
   },
   "id": "86137f3e237b244c"
  },
  {
   "cell_type": "code",
   "execution_count": 349,
   "outputs": [
    {
     "data": {
      "text/plain": "       Temperatura   Anomalia\ncount    25.000000  25.000000\nmean      1.073333 -17.651111\nstd       2.551412   2.552611\nmin      -3.888889 -22.611111\n25%      -0.888889 -19.611111\n50%       1.055556 -17.666667\n75%       3.166667 -15.555556\nmax       6.388889 -12.333333",
      "text/html": "<div>\n<style scoped>\n    .dataframe tbody tr th:only-of-type {\n        vertical-align: middle;\n    }\n\n    .dataframe tbody tr th {\n        vertical-align: top;\n    }\n\n    .dataframe thead th {\n        text-align: right;\n    }\n</style>\n<table border=\"1\" class=\"dataframe\">\n  <thead>\n    <tr style=\"text-align: right;\">\n      <th></th>\n      <th>Temperatura</th>\n      <th>Anomalia</th>\n    </tr>\n  </thead>\n  <tbody>\n    <tr>\n      <th>count</th>\n      <td>25.000000</td>\n      <td>25.000000</td>\n    </tr>\n    <tr>\n      <th>mean</th>\n      <td>1.073333</td>\n      <td>-17.651111</td>\n    </tr>\n    <tr>\n      <th>std</th>\n      <td>2.551412</td>\n      <td>2.552611</td>\n    </tr>\n    <tr>\n      <th>min</th>\n      <td>-3.888889</td>\n      <td>-22.611111</td>\n    </tr>\n    <tr>\n      <th>25%</th>\n      <td>-0.888889</td>\n      <td>-19.611111</td>\n    </tr>\n    <tr>\n      <th>50%</th>\n      <td>1.055556</td>\n      <td>-17.666667</td>\n    </tr>\n    <tr>\n      <th>75%</th>\n      <td>3.166667</td>\n      <td>-15.555556</td>\n    </tr>\n    <tr>\n      <th>max</th>\n      <td>6.388889</td>\n      <td>-12.333333</td>\n    </tr>\n  </tbody>\n</table>\n</div>"
     },
     "execution_count": 349,
     "metadata": {},
     "output_type": "execute_result"
    }
   ],
   "source": [
    "data[['Temperatura', 'Anomalia']].describe()"
   ],
   "metadata": {
    "collapsed": false,
    "ExecuteTime": {
     "end_time": "2023-11-10T10:00:54.897709Z",
     "start_time": "2023-11-10T10:00:54.866001Z"
    }
   },
   "id": "c5aa92fe53ff8295"
  },
  {
   "cell_type": "code",
   "execution_count": 350,
   "outputs": [],
   "source": [
    "x = data['Data']\n",
    "y = data['Temperatura']\n",
    "linear_regression = stats.linregress(x, y)  # regresja liniowa z biblioteki scipy"
   ],
   "metadata": {
    "collapsed": false,
    "ExecuteTime": {
     "end_time": "2023-11-10T10:00:54.905958Z",
     "start_time": "2023-11-10T10:00:54.872337Z"
    }
   },
   "id": "710e27223daab73f"
  },
  {
   "cell_type": "code",
   "execution_count": 351,
   "outputs": [
    {
     "name": "stdout",
     "output_type": "stream",
     "text": [
      "Nachylenie linii regresji: 0.0006619658119658117\n"
     ]
    }
   ],
   "source": [
    "print(f'Nachylenie linii regresji: {linear_regression.slope}')"
   ],
   "metadata": {
    "collapsed": false,
    "ExecuteTime": {
     "end_time": "2023-11-10T10:00:54.906229Z",
     "start_time": "2023-11-10T10:00:54.876359Z"
    }
   },
   "id": "7cdd1196985a553b"
  },
  {
   "cell_type": "code",
   "execution_count": 352,
   "outputs": [
    {
     "name": "stdout",
     "output_type": "stream",
     "text": [
      "Przesunięcie linii regresji: -132.04865341880338\n"
     ]
    }
   ],
   "source": [
    "print(f'Przesunięcie linii regresji: {linear_regression.intercept}')"
   ],
   "metadata": {
    "collapsed": false,
    "ExecuteTime": {
     "end_time": "2023-11-10T10:00:54.906331Z",
     "start_time": "2023-11-10T10:00:54.878538Z"
    }
   },
   "id": "f62c23c404f88f86"
  },
  {
   "cell_type": "code",
   "execution_count": 353,
   "outputs": [
    {
     "name": "stdout",
     "output_type": "stream",
     "text": [
      "Błąd  regresji: 0.0007095531966769347\n"
     ]
    }
   ],
   "source": [
    "print(f'Błąd  regresji: {linear_regression.stderr}')"
   ],
   "metadata": {
    "collapsed": false,
    "ExecuteTime": {
     "end_time": "2023-11-10T10:00:54.906400Z",
     "start_time": "2023-11-10T10:00:54.881502Z"
    }
   },
   "id": "891f2749ed52fc78"
  },
  {
   "cell_type": "code",
   "execution_count": 354,
   "outputs": [
    {
     "data": {
      "text/plain": "<Figure size 640x480 with 1 Axes>",
      "image/png": "[encoded data removed]"
     },
     "metadata": {},
     "output_type": "display_data"
    }
   ],
   "source": [
    "plt.plot(x, y, 'o', label='Temperatura')\n",
    "plt.xlabel('Data')\n",
    "plt.xticks(rotation=40)\n",
    "plt.ylabel('Temperatura')\n",
    "plt.plot(x, linear_regression.intercept + linear_regression.slope* x, 'r', label='Regresja')\n",
    "plt.title('Regresja liniowa temperatur w styczniu w New York Central Park w latach 1999-2023')\n",
    "plt.legend()\n",
    "plt.show()"
   ],
   "metadata": {
    "collapsed": false,
    "ExecuteTime": {
     "end_time": "2023-11-10T10:00:55.022958Z",
     "start_time": "2023-11-10T10:00:54.890003Z"
    }
   },
   "id": "780fedc975583b61"
  }
 ],
 "metadata": {
  "kernelspec": {
   "display_name": "Python 3",
   "language": "python",
   "name": "python3"
  },
  "language_info": {
   "codemirror_mode": {
    "name": "ipython",
    "version": 2
   },
   "file_extension": ".py",
   "mimetype": "text/x-python",
   "name": "python",
   "nbconvert_exporter": "python",
   "pygments_lexer": "ipython2",
   "version": "2.7.6"
  }
 },
 "nbformat": 4,
 "nbformat_minor": 5
}
