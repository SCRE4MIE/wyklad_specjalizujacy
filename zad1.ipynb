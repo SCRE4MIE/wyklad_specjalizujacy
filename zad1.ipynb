{
 "cells": [
  {
   "cell_type": "markdown",
   "source": [
    "# Zadanie 1\n",
    "## Mateusz Baran\n",
    "### 155620"
   ],
   "metadata": {
    "collapsed": false
   },
   "id": "25987fa23a5466f3"
  },
  {
   "cell_type": "code",
   "execution_count": 145,
   "outputs": [],
   "source": [
    "import pandas as pd  # pip install pandas"
   ],
   "metadata": {
    "collapsed": false,
    "ExecuteTime": {
     "end_time": "2023-11-03T11:46:46.851434Z",
     "start_time": "2023-11-03T11:46:46.816871Z"
    }
   },
   "id": "a041c36d017a97fd"
  },
  {
   "cell_type": "code",
   "execution_count": 146,
   "outputs": [],
   "source": [
    "data = pd.read_csv('data.csv', encoding='utf-8')"
   ],
   "metadata": {
    "collapsed": false,
    "ExecuteTime": {
     "end_time": "2023-11-03T11:46:46.869845Z",
     "start_time": "2023-11-03T11:46:46.821146Z"
    }
   },
   "id": "c92b2457bc3a0cce"
  },
  {
   "cell_type": "code",
   "execution_count": 147,
   "outputs": [
    {
     "data": {
      "text/plain": "                                                   NAME  \\\n0     SZKO?A PODSTAWOWA Z ODDZIA?AMI INTEGRACYJNYMI ...   \n1                              TECHNIKUM NR 5 W RYBNIKU   \n2     SZKO?A PODSTAWOWA IM. HENRYKA SIENKIEWICZA W D...   \n3                   PUBLICZNA SZKO?A PODSTAWOWA W CISIU   \n4     SZKO?A PODSTAWOWA SPECJALNA NR 7 IM. MARII KON...   \n...                                                 ...   \n1467                      SZKO?A PODSTAWOWA W LASECZNIE   \n1468           PUBLICZNA SZKO?A PODSTAWOWA W KOCHCICACH   \n1469  SZKO?A PODSTAWOWA IM. TW?RC?W LITERATURY DZIEC...   \n1470  SZKO?A PODSTAWOWA NR 3 IM. FRYDERYKA CHOPINA W...   \n1471  SZKO?A PODSTAWOWA IM.MIKO?AJA KOPERNIKA W ???Y...   \n\n                                 STREET POST_CODE                 CITY  \\\n0                          UL. SPORTOWA    05-825  GRODZISK MAZOWIECKI   \n1                     UL. J?ZEFA RYMERA    44-270               RYBNIK   \n2                         ul. Stra?acka    66-615                D?bie   \n3                         UL. CISIA?SKA    42-290                CISIE   \n4     UL. ROTMISTRZA WITOLDA PILECKIEGO    58-100             ?WIDNICA   \n...                                 ...       ...                  ...   \n1467                                NaN    14-202             LASECZNO   \n1468                        UL. PARKOWA    42-283             KOCHCICE   \n1469                        UL. SZKOLNA    14-241              Z?BROWO   \n1470                    UL. ?ABIE OCZKO    05-822            MILAN?WEK   \n1471                                NaN    87-123                ???YN   \n\n      LONGITUDE   LATITUDE  HUMIDITY_AVG  PRESSURE_AVG  TEMPERATURE_AVG  \\\n0     20.619233  52.098768     69.400000    979.058333        12.308333   \n1     18.496919  50.060718     68.516667    959.366667        14.975000   \n2     15.145142  52.007880     90.233333    980.658333         9.675000   \n3     21.383773  52.212355     70.566667    958.108333        14.725000   \n4     16.497382  50.852028     89.666667    962.183333        10.716667   \n...         ...        ...           ...           ...              ...   \n1467  19.435610  53.598272     84.200000    978.572727         9.981818   \n1468  18.682157  50.708244     75.325000    955.466667        12.833333   \n1469  19.455725  53.636496     85.608333    978.750000         9.975000   \n1470  20.658006  52.123646     69.841667    979.941667        12.258333   \n1471  19.145136  51.919438     84.708333    978.916667        11.066667   \n\n       PM10_AVG   PM25_AVG              TIMESTAMP  \n0      3.925000   2.883333  2023-11-03 09:00:00.0  \n1     13.558333  10.783333  2023-11-03 09:00:00.0  \n2     10.058333   9.158333  2023-11-03 09:00:00.0  \n3     34.641667  29.408333  2023-11-03 09:00:00.0  \n4     22.625000  17.483333  2023-11-03 09:00:00.0  \n...         ...        ...                    ...  \n1467   5.327273   6.281818  2023-11-03 09:00:00.0  \n1468  17.941667  17.666667  2023-11-03 09:00:00.0  \n1469  19.200000  12.000000  2023-11-03 09:00:00.0  \n1470   2.633333   2.758333  2023-11-03 09:00:00.0  \n1471   5.758333   5.775000  2023-11-03 09:00:00.0  \n\n[1472 rows x 12 columns]",
      "text/html": "<div>\n<style scoped>\n    .dataframe tbody tr th:only-of-type {\n        vertical-align: middle;\n    }\n\n    .dataframe tbody tr th {\n        vertical-align: top;\n    }\n\n    .dataframe thead th {\n        text-align: right;\n    }\n</style>\n<table border=\"1\" class=\"dataframe\">\n  <thead>\n    <tr style=\"text-align: right;\">\n      <th></th>\n      <th>NAME</th>\n      <th>STREET</th>\n      <th>POST_CODE</th>\n      <th>CITY</th>\n      <th>LONGITUDE</th>\n      <th>LATITUDE</th>\n      <th>HUMIDITY_AVG</th>\n      <th>PRESSURE_AVG</th>\n      <th>TEMPERATURE_AVG</th>\n      <th>PM10_AVG</th>\n      <th>PM25_AVG</th>\n      <th>TIMESTAMP</th>\n    </tr>\n  </thead>\n  <tbody>\n    <tr>\n      <th>0</th>\n      <td>SZKO?A PODSTAWOWA Z ODDZIA?AMI INTEGRACYJNYMI ...</td>\n      <td>UL. SPORTOWA</td>\n      <td>05-825</td>\n      <td>GRODZISK MAZOWIECKI</td>\n      <td>20.619233</td>\n      <td>52.098768</td>\n      <td>69.400000</td>\n      <td>979.058333</td>\n      <td>12.308333</td>\n      <td>3.925000</td>\n      <td>2.883333</td>\n      <td>2023-11-03 09:00:00.0</td>\n    </tr>\n    <tr>\n      <th>1</th>\n      <td>TECHNIKUM NR 5 W RYBNIKU</td>\n      <td>UL. J?ZEFA RYMERA</td>\n      <td>44-270</td>\n      <td>RYBNIK</td>\n      <td>18.496919</td>\n      <td>50.060718</td>\n      <td>68.516667</td>\n      <td>959.366667</td>\n      <td>14.975000</td>\n      <td>13.558333</td>\n      <td>10.783333</td>\n      <td>2023-11-03 09:00:00.0</td>\n    </tr>\n    <tr>\n      <th>2</th>\n      <td>SZKO?A PODSTAWOWA IM. HENRYKA SIENKIEWICZA W D...</td>\n      <td>ul. Stra?acka</td>\n      <td>66-615</td>\n      <td>D?bie</td>\n      <td>15.145142</td>\n      <td>52.007880</td>\n      <td>90.233333</td>\n      <td>980.658333</td>\n      <td>9.675000</td>\n      <td>10.058333</td>\n      <td>9.158333</td>\n      <td>2023-11-03 09:00:00.0</td>\n    </tr>\n    <tr>\n      <th>3</th>\n      <td>PUBLICZNA SZKO?A PODSTAWOWA W CISIU</td>\n      <td>UL. CISIA?SKA</td>\n      <td>42-290</td>\n      <td>CISIE</td>\n      <td>21.383773</td>\n      <td>52.212355</td>\n      <td>70.566667</td>\n      <td>958.108333</td>\n      <td>14.725000</td>\n      <td>34.641667</td>\n      <td>29.408333</td>\n      <td>2023-11-03 09:00:00.0</td>\n    </tr>\n    <tr>\n      <th>4</th>\n      <td>SZKO?A PODSTAWOWA SPECJALNA NR 7 IM. MARII KON...</td>\n      <td>UL. ROTMISTRZA WITOLDA PILECKIEGO</td>\n      <td>58-100</td>\n      <td>?WIDNICA</td>\n      <td>16.497382</td>\n      <td>50.852028</td>\n      <td>89.666667</td>\n      <td>962.183333</td>\n      <td>10.716667</td>\n      <td>22.625000</td>\n      <td>17.483333</td>\n      <td>2023-11-03 09:00:00.0</td>\n    </tr>\n    <tr>\n      <th>...</th>\n      <td>...</td>\n      <td>...</td>\n      <td>...</td>\n      <td>...</td>\n      <td>...</td>\n      <td>...</td>\n      <td>...</td>\n      <td>...</td>\n      <td>...</td>\n      <td>...</td>\n      <td>...</td>\n      <td>...</td>\n    </tr>\n    <tr>\n      <th>1467</th>\n      <td>SZKO?A PODSTAWOWA W LASECZNIE</td>\n      <td>NaN</td>\n      <td>14-202</td>\n      <td>LASECZNO</td>\n      <td>19.435610</td>\n      <td>53.598272</td>\n      <td>84.200000</td>\n      <td>978.572727</td>\n      <td>9.981818</td>\n      <td>5.327273</td>\n      <td>6.281818</td>\n      <td>2023-11-03 09:00:00.0</td>\n    </tr>\n    <tr>\n      <th>1468</th>\n      <td>PUBLICZNA SZKO?A PODSTAWOWA W KOCHCICACH</td>\n      <td>UL. PARKOWA</td>\n      <td>42-283</td>\n      <td>KOCHCICE</td>\n      <td>18.682157</td>\n      <td>50.708244</td>\n      <td>75.325000</td>\n      <td>955.466667</td>\n      <td>12.833333</td>\n      <td>17.941667</td>\n      <td>17.666667</td>\n      <td>2023-11-03 09:00:00.0</td>\n    </tr>\n    <tr>\n      <th>1469</th>\n      <td>SZKO?A PODSTAWOWA IM. TW?RC?W LITERATURY DZIEC...</td>\n      <td>UL. SZKOLNA</td>\n      <td>14-241</td>\n      <td>Z?BROWO</td>\n      <td>19.455725</td>\n      <td>53.636496</td>\n      <td>85.608333</td>\n      <td>978.750000</td>\n      <td>9.975000</td>\n      <td>19.200000</td>\n      <td>12.000000</td>\n      <td>2023-11-03 09:00:00.0</td>\n    </tr>\n    <tr>\n      <th>1470</th>\n      <td>SZKO?A PODSTAWOWA NR 3 IM. FRYDERYKA CHOPINA W...</td>\n      <td>UL. ?ABIE OCZKO</td>\n      <td>05-822</td>\n      <td>MILAN?WEK</td>\n      <td>20.658006</td>\n      <td>52.123646</td>\n      <td>69.841667</td>\n      <td>979.941667</td>\n      <td>12.258333</td>\n      <td>2.633333</td>\n      <td>2.758333</td>\n      <td>2023-11-03 09:00:00.0</td>\n    </tr>\n    <tr>\n      <th>1471</th>\n      <td>SZKO?A PODSTAWOWA IM.MIKO?AJA KOPERNIKA W ???Y...</td>\n      <td>NaN</td>\n      <td>87-123</td>\n      <td>???YN</td>\n      <td>19.145136</td>\n      <td>51.919438</td>\n      <td>84.708333</td>\n      <td>978.916667</td>\n      <td>11.066667</td>\n      <td>5.758333</td>\n      <td>5.775000</td>\n      <td>2023-11-03 09:00:00.0</td>\n    </tr>\n  </tbody>\n</table>\n<p>1472 rows × 12 columns</p>\n</div>"
     },
     "execution_count": 147,
     "metadata": {},
     "output_type": "execute_result"
    }
   ],
   "source": [
    "data"
   ],
   "metadata": {
    "collapsed": false,
    "ExecuteTime": {
     "end_time": "2023-11-03T11:46:46.889476Z",
     "start_time": "2023-11-03T11:46:46.833418Z"
    }
   },
   "id": "c1fd48ad24f8c8cd"
  },
  {
   "cell_type": "code",
   "execution_count": 148,
   "outputs": [
    {
     "data": {
      "text/plain": "         LONGITUDE     LATITUDE  HUMIDITY_AVG  PRESSURE_AVG  TEMPERATURE_AVG  \\\ncount  1472.000000  1472.000000   1469.000000   1469.000000      1469.000000   \nmean     19.235994    51.250196     77.527627    969.460252        11.837549   \nstd       2.103883     1.274382     13.375664     18.397787         4.422808   \nmin      14.499552    49.337977      0.000000    920.016667       -40.000000   \n25%      17.659426    50.130041     69.616667    959.533333        10.500000   \n50%      19.151845    50.966196     75.408333    969.633333        11.716667   \n75%      20.917468    52.111126     87.800000    978.266667        13.116667   \nmax      23.873936    54.661981    100.000000   1100.000000        36.600000   \n\n          PM10_AVG     PM25_AVG  \ncount  1472.000000  1472.000000  \nmean      8.670201     7.273540  \nstd       8.071361     6.944368  \nmin       0.000000     0.000000  \n25%       4.000000     3.339091  \n50%       6.529167     5.425000  \n75%      11.043750     9.454167  \nmax     147.250000   147.966667  ",
      "text/html": "<div>\n<style scoped>\n    .dataframe tbody tr th:only-of-type {\n        vertical-align: middle;\n    }\n\n    .dataframe tbody tr th {\n        vertical-align: top;\n    }\n\n    .dataframe thead th {\n        text-align: right;\n    }\n</style>\n<table border=\"1\" class=\"dataframe\">\n  <thead>\n    <tr style=\"text-align: right;\">\n      <th></th>\n      <th>LONGITUDE</th>\n      <th>LATITUDE</th>\n      <th>HUMIDITY_AVG</th>\n      <th>PRESSURE_AVG</th>\n      <th>TEMPERATURE_AVG</th>\n      <th>PM10_AVG</th>\n      <th>PM25_AVG</th>\n    </tr>\n  </thead>\n  <tbody>\n    <tr>\n      <th>count</th>\n      <td>1472.000000</td>\n      <td>1472.000000</td>\n      <td>1469.000000</td>\n      <td>1469.000000</td>\n      <td>1469.000000</td>\n      <td>1472.000000</td>\n      <td>1472.000000</td>\n    </tr>\n    <tr>\n      <th>mean</th>\n      <td>19.235994</td>\n      <td>51.250196</td>\n      <td>77.527627</td>\n      <td>969.460252</td>\n      <td>11.837549</td>\n      <td>8.670201</td>\n      <td>7.273540</td>\n    </tr>\n    <tr>\n      <th>std</th>\n      <td>2.103883</td>\n      <td>1.274382</td>\n      <td>13.375664</td>\n      <td>18.397787</td>\n      <td>4.422808</td>\n      <td>8.071361</td>\n      <td>6.944368</td>\n    </tr>\n    <tr>\n      <th>min</th>\n      <td>14.499552</td>\n      <td>49.337977</td>\n      <td>0.000000</td>\n      <td>920.016667</td>\n      <td>-40.000000</td>\n      <td>0.000000</td>\n      <td>0.000000</td>\n    </tr>\n    <tr>\n      <th>25%</th>\n      <td>17.659426</td>\n      <td>50.130041</td>\n      <td>69.616667</td>\n      <td>959.533333</td>\n      <td>10.500000</td>\n      <td>4.000000</td>\n      <td>3.339091</td>\n    </tr>\n    <tr>\n      <th>50%</th>\n      <td>19.151845</td>\n      <td>50.966196</td>\n      <td>75.408333</td>\n      <td>969.633333</td>\n      <td>11.716667</td>\n      <td>6.529167</td>\n      <td>5.425000</td>\n    </tr>\n    <tr>\n      <th>75%</th>\n      <td>20.917468</td>\n      <td>52.111126</td>\n      <td>87.800000</td>\n      <td>978.266667</td>\n      <td>13.116667</td>\n      <td>11.043750</td>\n      <td>9.454167</td>\n    </tr>\n    <tr>\n      <th>max</th>\n      <td>23.873936</td>\n      <td>54.661981</td>\n      <td>100.000000</td>\n      <td>1100.000000</td>\n      <td>36.600000</td>\n      <td>147.250000</td>\n      <td>147.966667</td>\n    </tr>\n  </tbody>\n</table>\n</div>"
     },
     "execution_count": 148,
     "metadata": {},
     "output_type": "execute_result"
    }
   ],
   "source": [
    "data.describe()"
   ],
   "metadata": {
    "collapsed": false,
    "ExecuteTime": {
     "end_time": "2023-11-03T11:46:46.891019Z",
     "start_time": "2023-11-03T11:46:46.843106Z"
    }
   },
   "id": "198fa88ea6ac9897"
  },
  {
   "cell_type": "markdown",
   "source": [
    "### Sprawdzenie poprawności typów danych"
   ],
   "metadata": {
    "collapsed": false
   },
   "id": "831d6185b03c31a2"
  },
  {
   "cell_type": "code",
   "execution_count": 149,
   "outputs": [
    {
     "data": {
      "text/plain": "NAME                object\nSTREET              object\nPOST_CODE           object\nCITY                object\nLONGITUDE          float64\nLATITUDE           float64\nHUMIDITY_AVG       float64\nPRESSURE_AVG       float64\nTEMPERATURE_AVG    float64\nPM10_AVG           float64\nPM25_AVG           float64\nTIMESTAMP           object\ndtype: object"
     },
     "execution_count": 149,
     "metadata": {},
     "output_type": "execute_result"
    }
   ],
   "source": [
    "data.dtypes"
   ],
   "metadata": {
    "collapsed": false,
    "ExecuteTime": {
     "end_time": "2023-11-03T11:46:46.891181Z",
     "start_time": "2023-11-03T11:46:46.855861Z"
    }
   },
   "id": "210928fa85dfe6c5"
  },
  {
   "cell_type": "markdown",
   "source": [
    "#### Zmiana typu object w kolumnie TIMESTAMP na typ datetime"
   ],
   "metadata": {
    "collapsed": false
   },
   "id": "f91e4233013fbf16"
  },
  {
   "cell_type": "code",
   "execution_count": 150,
   "outputs": [
    {
     "data": {
      "text/plain": "NAME                       object\nSTREET                     object\nPOST_CODE                  object\nCITY                       object\nLONGITUDE                 float64\nLATITUDE                  float64\nHUMIDITY_AVG              float64\nPRESSURE_AVG              float64\nTEMPERATURE_AVG           float64\nPM10_AVG                  float64\nPM25_AVG                  float64\nTIMESTAMP          datetime64[ns]\ndtype: object"
     },
     "execution_count": 150,
     "metadata": {},
     "output_type": "execute_result"
    }
   ],
   "source": [
    "data['TIMESTAMP'] = pd.to_datetime(data['TIMESTAMP'], format='%Y-%m-%d %H:%M:%S.%f')\n",
    "data.dtypes"
   ],
   "metadata": {
    "collapsed": false,
    "ExecuteTime": {
     "end_time": "2023-11-03T11:46:46.891334Z",
     "start_time": "2023-11-03T11:46:46.860162Z"
    }
   },
   "id": "482384da5550bce8"
  },
  {
   "cell_type": "markdown",
   "source": [
    "## Usuwanie danych, które są niekompletne"
   ],
   "metadata": {
    "collapsed": false
   },
   "id": "fa0ca7d45f5cc583"
  },
  {
   "cell_type": "code",
   "execution_count": 151,
   "outputs": [
    {
     "data": {
      "text/plain": "NAME                 0\nSTREET             348\nPOST_CODE            0\nCITY                 0\nLONGITUDE            0\nLATITUDE             0\nHUMIDITY_AVG         3\nPRESSURE_AVG         3\nTEMPERATURE_AVG      3\nPM10_AVG             0\nPM25_AVG             0\nTIMESTAMP            0\ndtype: int64"
     },
     "execution_count": 151,
     "metadata": {},
     "output_type": "execute_result"
    }
   ],
   "source": [
    "nan_values = data.isna()\n",
    "nan_values.sum()"
   ],
   "metadata": {
    "collapsed": false,
    "ExecuteTime": {
     "end_time": "2023-11-03T11:46:46.891541Z",
     "start_time": "2023-11-03T11:46:46.867386Z"
    }
   },
   "id": "4f520435f4c87df9"
  },
  {
   "cell_type": "code",
   "execution_count": 152,
   "outputs": [],
   "source": [
    "data_clean = data.dropna()"
   ],
   "metadata": {
    "collapsed": false,
    "ExecuteTime": {
     "end_time": "2023-11-03T11:46:46.891796Z",
     "start_time": "2023-11-03T11:46:46.870469Z"
    }
   },
   "id": "54c82fe5ae659d52"
  },
  {
   "cell_type": "code",
   "execution_count": 153,
   "outputs": [
    {
     "data": {
      "text/plain": "                                                   NAME  \\\n0     SZKO?A PODSTAWOWA Z ODDZIA?AMI INTEGRACYJNYMI ...   \n1                              TECHNIKUM NR 5 W RYBNIKU   \n2     SZKO?A PODSTAWOWA IM. HENRYKA SIENKIEWICZA W D...   \n3                   PUBLICZNA SZKO?A PODSTAWOWA W CISIU   \n4     SZKO?A PODSTAWOWA SPECJALNA NR 7 IM. MARII KON...   \n...                                                 ...   \n1465      SZKO?A PODSTAWOWA IM. JANA PAW?A II W PSARACH   \n1466                       SZKO?A PODSTAWOWA W BRONOWIE   \n1468           PUBLICZNA SZKO?A PODSTAWOWA W KOCHCICACH   \n1469  SZKO?A PODSTAWOWA IM. TW?RC?W LITERATURY DZIEC...   \n1470  SZKO?A PODSTAWOWA NR 3 IM. FRYDERYKA CHOPINA W...   \n\n                                 STREET POST_CODE                 CITY  \\\n0                          UL. SPORTOWA    05-825  GRODZISK MAZOWIECKI   \n1                     UL. J?ZEFA RYMERA    44-270               RYBNIK   \n2                         ul. Stra?acka    66-615                D?bie   \n3                         UL. CISIA?SKA    42-290                CISIE   \n4     UL. ROTMISTRZA WITOLDA PILECKIEGO    58-100             ?WIDNICA   \n...                                 ...       ...                  ...   \n1465                         UL. G??WNA    42-287                PSARY   \n1466                       UL. KOLOROWA    43-502               BRON?W   \n1468                        UL. PARKOWA    42-283             KOCHCICE   \n1469                        UL. SZKOLNA    14-241              Z?BROWO   \n1470                    UL. ?ABIE OCZKO    05-822            MILAN?WEK   \n\n      LONGITUDE   LATITUDE  HUMIDITY_AVG  PRESSURE_AVG  TEMPERATURE_AVG  \\\n0     20.619233  52.098768     69.400000    979.058333        12.308333   \n1     18.496919  50.060718     68.516667    959.366667        14.975000   \n2     15.145142  52.007880     90.233333    980.658333         9.675000   \n3     21.383773  52.212355     70.566667    958.108333        14.725000   \n4     16.497382  50.852028     89.666667    962.183333        10.716667   \n...         ...        ...           ...           ...              ...   \n1465  19.113790  50.379455     65.933333    951.816667        13.208333   \n1466  18.910652  49.880398     68.841667    958.600000        15.575000   \n1468  18.682157  50.708244     75.325000    955.466667        12.833333   \n1469  19.455725  53.636496     85.608333    978.750000         9.975000   \n1470  20.658006  52.123646     69.841667    979.941667        12.258333   \n\n       PM10_AVG   PM25_AVG           TIMESTAMP  \n0      3.925000   2.883333 2023-11-03 09:00:00  \n1     13.558333  10.783333 2023-11-03 09:00:00  \n2     10.058333   9.158333 2023-11-03 09:00:00  \n3     34.641667  29.408333 2023-11-03 09:00:00  \n4     22.625000  17.483333 2023-11-03 09:00:00  \n...         ...        ...                 ...  \n1465   5.191667   4.908333 2023-11-03 09:00:00  \n1466   4.341667   3.483333 2023-11-03 09:00:00  \n1468  17.941667  17.666667 2023-11-03 09:00:00  \n1469  19.200000  12.000000 2023-11-03 09:00:00  \n1470   2.633333   2.758333 2023-11-03 09:00:00  \n\n[1121 rows x 12 columns]",
      "text/html": "<div>\n<style scoped>\n    .dataframe tbody tr th:only-of-type {\n        vertical-align: middle;\n    }\n\n    .dataframe tbody tr th {\n        vertical-align: top;\n    }\n\n    .dataframe thead th {\n        text-align: right;\n    }\n</style>\n<table border=\"1\" class=\"dataframe\">\n  <thead>\n    <tr style=\"text-align: right;\">\n      <th></th>\n      <th>NAME</th>\n      <th>STREET</th>\n      <th>POST_CODE</th>\n      <th>CITY</th>\n      <th>LONGITUDE</th>\n      <th>LATITUDE</th>\n      <th>HUMIDITY_AVG</th>\n      <th>PRESSURE_AVG</th>\n      <th>TEMPERATURE_AVG</th>\n      <th>PM10_AVG</th>\n      <th>PM25_AVG</th>\n      <th>TIMESTAMP</th>\n    </tr>\n  </thead>\n  <tbody>\n    <tr>\n      <th>0</th>\n      <td>SZKO?A PODSTAWOWA Z ODDZIA?AMI INTEGRACYJNYMI ...</td>\n      <td>UL. SPORTOWA</td>\n      <td>05-825</td>\n      <td>GRODZISK MAZOWIECKI</td>\n      <td>20.619233</td>\n      <td>52.098768</td>\n      <td>69.400000</td>\n      <td>979.058333</td>\n      <td>12.308333</td>\n      <td>3.925000</td>\n      <td>2.883333</td>\n      <td>2023-11-03 09:00:00</td>\n    </tr>\n    <tr>\n      <th>1</th>\n      <td>TECHNIKUM NR 5 W RYBNIKU</td>\n      <td>UL. J?ZEFA RYMERA</td>\n      <td>44-270</td>\n      <td>RYBNIK</td>\n      <td>18.496919</td>\n      <td>50.060718</td>\n      <td>68.516667</td>\n      <td>959.366667</td>\n      <td>14.975000</td>\n      <td>13.558333</td>\n      <td>10.783333</td>\n      <td>2023-11-03 09:00:00</td>\n    </tr>\n    <tr>\n      <th>2</th>\n      <td>SZKO?A PODSTAWOWA IM. HENRYKA SIENKIEWICZA W D...</td>\n      <td>ul. Stra?acka</td>\n      <td>66-615</td>\n      <td>D?bie</td>\n      <td>15.145142</td>\n      <td>52.007880</td>\n      <td>90.233333</td>\n      <td>980.658333</td>\n      <td>9.675000</td>\n      <td>10.058333</td>\n      <td>9.158333</td>\n      <td>2023-11-03 09:00:00</td>\n    </tr>\n    <tr>\n      <th>3</th>\n      <td>PUBLICZNA SZKO?A PODSTAWOWA W CISIU</td>\n      <td>UL. CISIA?SKA</td>\n      <td>42-290</td>\n      <td>CISIE</td>\n      <td>21.383773</td>\n      <td>52.212355</td>\n      <td>70.566667</td>\n      <td>958.108333</td>\n      <td>14.725000</td>\n      <td>34.641667</td>\n      <td>29.408333</td>\n      <td>2023-11-03 09:00:00</td>\n    </tr>\n    <tr>\n      <th>4</th>\n      <td>SZKO?A PODSTAWOWA SPECJALNA NR 7 IM. MARII KON...</td>\n      <td>UL. ROTMISTRZA WITOLDA PILECKIEGO</td>\n      <td>58-100</td>\n      <td>?WIDNICA</td>\n      <td>16.497382</td>\n      <td>50.852028</td>\n      <td>89.666667</td>\n      <td>962.183333</td>\n      <td>10.716667</td>\n      <td>22.625000</td>\n      <td>17.483333</td>\n      <td>2023-11-03 09:00:00</td>\n    </tr>\n    <tr>\n      <th>...</th>\n      <td>...</td>\n      <td>...</td>\n      <td>...</td>\n      <td>...</td>\n      <td>...</td>\n      <td>...</td>\n      <td>...</td>\n      <td>...</td>\n      <td>...</td>\n      <td>...</td>\n      <td>...</td>\n      <td>...</td>\n    </tr>\n    <tr>\n      <th>1465</th>\n      <td>SZKO?A PODSTAWOWA IM. JANA PAW?A II W PSARACH</td>\n      <td>UL. G??WNA</td>\n      <td>42-287</td>\n      <td>PSARY</td>\n      <td>19.113790</td>\n      <td>50.379455</td>\n      <td>65.933333</td>\n      <td>951.816667</td>\n      <td>13.208333</td>\n      <td>5.191667</td>\n      <td>4.908333</td>\n      <td>2023-11-03 09:00:00</td>\n    </tr>\n    <tr>\n      <th>1466</th>\n      <td>SZKO?A PODSTAWOWA W BRONOWIE</td>\n      <td>UL. KOLOROWA</td>\n      <td>43-502</td>\n      <td>BRON?W</td>\n      <td>18.910652</td>\n      <td>49.880398</td>\n      <td>68.841667</td>\n      <td>958.600000</td>\n      <td>15.575000</td>\n      <td>4.341667</td>\n      <td>3.483333</td>\n      <td>2023-11-03 09:00:00</td>\n    </tr>\n    <tr>\n      <th>1468</th>\n      <td>PUBLICZNA SZKO?A PODSTAWOWA W KOCHCICACH</td>\n      <td>UL. PARKOWA</td>\n      <td>42-283</td>\n      <td>KOCHCICE</td>\n      <td>18.682157</td>\n      <td>50.708244</td>\n      <td>75.325000</td>\n      <td>955.466667</td>\n      <td>12.833333</td>\n      <td>17.941667</td>\n      <td>17.666667</td>\n      <td>2023-11-03 09:00:00</td>\n    </tr>\n    <tr>\n      <th>1469</th>\n      <td>SZKO?A PODSTAWOWA IM. TW?RC?W LITERATURY DZIEC...</td>\n      <td>UL. SZKOLNA</td>\n      <td>14-241</td>\n      <td>Z?BROWO</td>\n      <td>19.455725</td>\n      <td>53.636496</td>\n      <td>85.608333</td>\n      <td>978.750000</td>\n      <td>9.975000</td>\n      <td>19.200000</td>\n      <td>12.000000</td>\n      <td>2023-11-03 09:00:00</td>\n    </tr>\n    <tr>\n      <th>1470</th>\n      <td>SZKO?A PODSTAWOWA NR 3 IM. FRYDERYKA CHOPINA W...</td>\n      <td>UL. ?ABIE OCZKO</td>\n      <td>05-822</td>\n      <td>MILAN?WEK</td>\n      <td>20.658006</td>\n      <td>52.123646</td>\n      <td>69.841667</td>\n      <td>979.941667</td>\n      <td>12.258333</td>\n      <td>2.633333</td>\n      <td>2.758333</td>\n      <td>2023-11-03 09:00:00</td>\n    </tr>\n  </tbody>\n</table>\n<p>1121 rows × 12 columns</p>\n</div>"
     },
     "execution_count": 153,
     "metadata": {},
     "output_type": "execute_result"
    }
   ],
   "source": [
    "data_clean"
   ],
   "metadata": {
    "collapsed": false,
    "ExecuteTime": {
     "end_time": "2023-11-03T11:46:46.892129Z",
     "start_time": "2023-11-03T11:46:46.873531Z"
    }
   },
   "id": "b5769e453442b0ae"
  },
  {
   "cell_type": "code",
   "execution_count": 154,
   "outputs": [],
   "source": [
    "import re\n",
    "pattern = r'^\\d{2}-\\d{3}$'  # sprawdzanie poprawności kodów pocztowych\n",
    "for index, post_code in data_clean['POST_CODE'].items():\n",
    "    if not re.match(pattern=pattern, string=post_code):\n",
    "        data_clean = data_clean.drop(index)"
   ],
   "metadata": {
    "collapsed": false,
    "ExecuteTime": {
     "end_time": "2023-11-03T11:46:46.892186Z",
     "start_time": "2023-11-03T11:46:46.881618Z"
    }
   },
   "id": "8b0c02a0037c6d2e"
  },
  {
   "cell_type": "code",
   "execution_count": 155,
   "outputs": [
    {
     "data": {
      "text/plain": "                                                   NAME  \\\n0     SZKO?A PODSTAWOWA Z ODDZIA?AMI INTEGRACYJNYMI ...   \n1                              TECHNIKUM NR 5 W RYBNIKU   \n2     SZKO?A PODSTAWOWA IM. HENRYKA SIENKIEWICZA W D...   \n3                   PUBLICZNA SZKO?A PODSTAWOWA W CISIU   \n4     SZKO?A PODSTAWOWA SPECJALNA NR 7 IM. MARII KON...   \n...                                                 ...   \n1465      SZKO?A PODSTAWOWA IM. JANA PAW?A II W PSARACH   \n1466                       SZKO?A PODSTAWOWA W BRONOWIE   \n1468           PUBLICZNA SZKO?A PODSTAWOWA W KOCHCICACH   \n1469  SZKO?A PODSTAWOWA IM. TW?RC?W LITERATURY DZIEC...   \n1470  SZKO?A PODSTAWOWA NR 3 IM. FRYDERYKA CHOPINA W...   \n\n                                 STREET POST_CODE                 CITY  \\\n0                          UL. SPORTOWA    05-825  GRODZISK MAZOWIECKI   \n1                     UL. J?ZEFA RYMERA    44-270               RYBNIK   \n2                         ul. Stra?acka    66-615                D?bie   \n3                         UL. CISIA?SKA    42-290                CISIE   \n4     UL. ROTMISTRZA WITOLDA PILECKIEGO    58-100             ?WIDNICA   \n...                                 ...       ...                  ...   \n1465                         UL. G??WNA    42-287                PSARY   \n1466                       UL. KOLOROWA    43-502               BRON?W   \n1468                        UL. PARKOWA    42-283             KOCHCICE   \n1469                        UL. SZKOLNA    14-241              Z?BROWO   \n1470                    UL. ?ABIE OCZKO    05-822            MILAN?WEK   \n\n      LONGITUDE   LATITUDE  HUMIDITY_AVG  PRESSURE_AVG  TEMPERATURE_AVG  \\\n0     20.619233  52.098768     69.400000    979.058333        12.308333   \n1     18.496919  50.060718     68.516667    959.366667        14.975000   \n2     15.145142  52.007880     90.233333    980.658333         9.675000   \n3     21.383773  52.212355     70.566667    958.108333        14.725000   \n4     16.497382  50.852028     89.666667    962.183333        10.716667   \n...         ...        ...           ...           ...              ...   \n1465  19.113790  50.379455     65.933333    951.816667        13.208333   \n1466  18.910652  49.880398     68.841667    958.600000        15.575000   \n1468  18.682157  50.708244     75.325000    955.466667        12.833333   \n1469  19.455725  53.636496     85.608333    978.750000         9.975000   \n1470  20.658006  52.123646     69.841667    979.941667        12.258333   \n\n       PM10_AVG   PM25_AVG           TIMESTAMP  \n0      3.925000   2.883333 2023-11-03 09:00:00  \n1     13.558333  10.783333 2023-11-03 09:00:00  \n2     10.058333   9.158333 2023-11-03 09:00:00  \n3     34.641667  29.408333 2023-11-03 09:00:00  \n4     22.625000  17.483333 2023-11-03 09:00:00  \n...         ...        ...                 ...  \n1465   5.191667   4.908333 2023-11-03 09:00:00  \n1466   4.341667   3.483333 2023-11-03 09:00:00  \n1468  17.941667  17.666667 2023-11-03 09:00:00  \n1469  19.200000  12.000000 2023-11-03 09:00:00  \n1470   2.633333   2.758333 2023-11-03 09:00:00  \n\n[1117 rows x 12 columns]",
      "text/html": "<div>\n<style scoped>\n    .dataframe tbody tr th:only-of-type {\n        vertical-align: middle;\n    }\n\n    .dataframe tbody tr th {\n        vertical-align: top;\n    }\n\n    .dataframe thead th {\n        text-align: right;\n    }\n</style>\n<table border=\"1\" class=\"dataframe\">\n  <thead>\n    <tr style=\"text-align: right;\">\n      <th></th>\n      <th>NAME</th>\n      <th>STREET</th>\n      <th>POST_CODE</th>\n      <th>CITY</th>\n      <th>LONGITUDE</th>\n      <th>LATITUDE</th>\n      <th>HUMIDITY_AVG</th>\n      <th>PRESSURE_AVG</th>\n      <th>TEMPERATURE_AVG</th>\n      <th>PM10_AVG</th>\n      <th>PM25_AVG</th>\n      <th>TIMESTAMP</th>\n    </tr>\n  </thead>\n  <tbody>\n    <tr>\n      <th>0</th>\n      <td>SZKO?A PODSTAWOWA Z ODDZIA?AMI INTEGRACYJNYMI ...</td>\n      <td>UL. SPORTOWA</td>\n      <td>05-825</td>\n      <td>GRODZISK MAZOWIECKI</td>\n      <td>20.619233</td>\n      <td>52.098768</td>\n      <td>69.400000</td>\n      <td>979.058333</td>\n      <td>12.308333</td>\n      <td>3.925000</td>\n      <td>2.883333</td>\n      <td>2023-11-03 09:00:00</td>\n    </tr>\n    <tr>\n      <th>1</th>\n      <td>TECHNIKUM NR 5 W RYBNIKU</td>\n      <td>UL. J?ZEFA RYMERA</td>\n      <td>44-270</td>\n      <td>RYBNIK</td>\n      <td>18.496919</td>\n      <td>50.060718</td>\n      <td>68.516667</td>\n      <td>959.366667</td>\n      <td>14.975000</td>\n      <td>13.558333</td>\n      <td>10.783333</td>\n      <td>2023-11-03 09:00:00</td>\n    </tr>\n    <tr>\n      <th>2</th>\n      <td>SZKO?A PODSTAWOWA IM. HENRYKA SIENKIEWICZA W D...</td>\n      <td>ul. Stra?acka</td>\n      <td>66-615</td>\n      <td>D?bie</td>\n      <td>15.145142</td>\n      <td>52.007880</td>\n      <td>90.233333</td>\n      <td>980.658333</td>\n      <td>9.675000</td>\n      <td>10.058333</td>\n      <td>9.158333</td>\n      <td>2023-11-03 09:00:00</td>\n    </tr>\n    <tr>\n      <th>3</th>\n      <td>PUBLICZNA SZKO?A PODSTAWOWA W CISIU</td>\n      <td>UL. CISIA?SKA</td>\n      <td>42-290</td>\n      <td>CISIE</td>\n      <td>21.383773</td>\n      <td>52.212355</td>\n      <td>70.566667</td>\n      <td>958.108333</td>\n      <td>14.725000</td>\n      <td>34.641667</td>\n      <td>29.408333</td>\n      <td>2023-11-03 09:00:00</td>\n    </tr>\n    <tr>\n      <th>4</th>\n      <td>SZKO?A PODSTAWOWA SPECJALNA NR 7 IM. MARII KON...</td>\n      <td>UL. ROTMISTRZA WITOLDA PILECKIEGO</td>\n      <td>58-100</td>\n      <td>?WIDNICA</td>\n      <td>16.497382</td>\n      <td>50.852028</td>\n      <td>89.666667</td>\n      <td>962.183333</td>\n      <td>10.716667</td>\n      <td>22.625000</td>\n      <td>17.483333</td>\n      <td>2023-11-03 09:00:00</td>\n    </tr>\n    <tr>\n      <th>...</th>\n      <td>...</td>\n      <td>...</td>\n      <td>...</td>\n      <td>...</td>\n      <td>...</td>\n      <td>...</td>\n      <td>...</td>\n      <td>...</td>\n      <td>...</td>\n      <td>...</td>\n      <td>...</td>\n      <td>...</td>\n    </tr>\n    <tr>\n      <th>1465</th>\n      <td>SZKO?A PODSTAWOWA IM. JANA PAW?A II W PSARACH</td>\n      <td>UL. G??WNA</td>\n      <td>42-287</td>\n      <td>PSARY</td>\n      <td>19.113790</td>\n      <td>50.379455</td>\n      <td>65.933333</td>\n      <td>951.816667</td>\n      <td>13.208333</td>\n      <td>5.191667</td>\n      <td>4.908333</td>\n      <td>2023-11-03 09:00:00</td>\n    </tr>\n    <tr>\n      <th>1466</th>\n      <td>SZKO?A PODSTAWOWA W BRONOWIE</td>\n      <td>UL. KOLOROWA</td>\n      <td>43-502</td>\n      <td>BRON?W</td>\n      <td>18.910652</td>\n      <td>49.880398</td>\n      <td>68.841667</td>\n      <td>958.600000</td>\n      <td>15.575000</td>\n      <td>4.341667</td>\n      <td>3.483333</td>\n      <td>2023-11-03 09:00:00</td>\n    </tr>\n    <tr>\n      <th>1468</th>\n      <td>PUBLICZNA SZKO?A PODSTAWOWA W KOCHCICACH</td>\n      <td>UL. PARKOWA</td>\n      <td>42-283</td>\n      <td>KOCHCICE</td>\n      <td>18.682157</td>\n      <td>50.708244</td>\n      <td>75.325000</td>\n      <td>955.466667</td>\n      <td>12.833333</td>\n      <td>17.941667</td>\n      <td>17.666667</td>\n      <td>2023-11-03 09:00:00</td>\n    </tr>\n    <tr>\n      <th>1469</th>\n      <td>SZKO?A PODSTAWOWA IM. TW?RC?W LITERATURY DZIEC...</td>\n      <td>UL. SZKOLNA</td>\n      <td>14-241</td>\n      <td>Z?BROWO</td>\n      <td>19.455725</td>\n      <td>53.636496</td>\n      <td>85.608333</td>\n      <td>978.750000</td>\n      <td>9.975000</td>\n      <td>19.200000</td>\n      <td>12.000000</td>\n      <td>2023-11-03 09:00:00</td>\n    </tr>\n    <tr>\n      <th>1470</th>\n      <td>SZKO?A PODSTAWOWA NR 3 IM. FRYDERYKA CHOPINA W...</td>\n      <td>UL. ?ABIE OCZKO</td>\n      <td>05-822</td>\n      <td>MILAN?WEK</td>\n      <td>20.658006</td>\n      <td>52.123646</td>\n      <td>69.841667</td>\n      <td>979.941667</td>\n      <td>12.258333</td>\n      <td>2.633333</td>\n      <td>2.758333</td>\n      <td>2023-11-03 09:00:00</td>\n    </tr>\n  </tbody>\n</table>\n<p>1117 rows × 12 columns</p>\n</div>"
     },
     "execution_count": 155,
     "metadata": {},
     "output_type": "execute_result"
    }
   ],
   "source": [
    "data_clean"
   ],
   "metadata": {
    "collapsed": false,
    "ExecuteTime": {
     "end_time": "2023-11-03T11:46:46.905452Z",
     "start_time": "2023-11-03T11:46:46.889402Z"
    }
   },
   "id": "1cf4d745d332f7ac"
  },
  {
   "cell_type": "markdown",
   "source": [
    "#### W tym przypadku jeżeli brakuje kodu pocztowego, to wiersz jest usuwany. Można by to również rozwiązać poprzez uzupełnienie danych odpowiednimi kodami pocztowymi z jakiegoś API, do którego by się wysyłało miasto oraz ulice "
   ],
   "metadata": {
    "collapsed": false
   },
   "id": "588e30d5fb11aa44"
  },
  {
   "cell_type": "markdown",
   "source": [
    "### Niestety nie uda się zastąpić znaków zapytania w nazwach szkół i ulic. Problem jest z samymi danymi na stronie, skąd te dane były pobierane. Rozwiązaniem tego mogłoby być API jakiegoś słownika polskiego, gdzie taki wyraz byłby wysyłany w celu zastąpienia znaku zapytania odpowiednią literą."
   ],
   "metadata": {
    "collapsed": false
   },
   "id": "e1ffd5e24e15df6d"
  },
  {
   "cell_type": "markdown",
   "source": [
    "### Jeżeli chodzi o nazwy ulic, nie jestem w stanie stwierdzić po samych danych, czy dana nazwa ulicy powinna zaczynać się od ul czy może od al ( aleja ), to również można by to rozwiązać poprzez jakieś API, gdzie wysyłało by się nazwy ulic w celu dostania pełniej nazwy ulic."
   ],
   "metadata": {
    "collapsed": false
   },
   "id": "ada9480478cc7a65"
  },
  {
   "cell_type": "code",
   "execution_count": null,
   "outputs": [],
   "source": [],
   "metadata": {
    "collapsed": false
   },
   "id": "1e7337f79d39cd1a"
  }
 ],
 "metadata": {
  "kernelspec": {
   "display_name": "Python 3",
   "language": "python",
   "name": "python3"
  },
  "language_info": {
   "codemirror_mode": {
    "name": "ipython",
    "version": 2
   },
   "file_extension": ".py",
   "mimetype": "text/x-python",
   "name": "python",
   "nbconvert_exporter": "python",
   "pygments_lexer": "ipython2",
   "version": "2.7.6"
  }
 },
 "nbformat": 4,
 "nbformat_minor": 5
}
